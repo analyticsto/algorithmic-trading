{
  "nbformat": 4,
  "nbformat_minor": 0,
  "metadata": {
    "colab": {
      "name": "quantopian-morningstar-mapping-codes.ipynb",
      "provenance": [],
      "authorship_tag": "ABX9TyNvnIgAUqerNTNJ9DW/Gt64"
    },
    "kernelspec": {
      "name": "python3",
      "display_name": "Python 3"
    }
  },
  "cells": [
    {
      "cell_type": "code",
      "metadata": {
        "id": "VGaSQRCHM-X5",
        "colab_type": "code",
        "colab": {}
      },
      "source": [
        "import pandas as pd\n",
        "import requests\n",
        "from bs4 import BeautifulSoup"
      ],
      "execution_count": 0,
      "outputs": []
    },
    {
      "cell_type": "code",
      "metadata": {
        "id": "-kKAyJwbNZ0e",
        "colab_type": "code",
        "colab": {}
      },
      "source": [
        "website_url = requests.get('https://www.quantopian.com/docs/data-reference/morningstar_fundamentals#super-sector-sector-group-and-industry-mappings-november-2019-onward').text"
      ],
      "execution_count": 0,
      "outputs": []
    },
    {
      "cell_type": "code",
      "metadata": {
        "id": "M4U38sr_EXzn",
        "colab_type": "code",
        "colab": {}
      },
      "source": [
        "soup = BeautifulSoup(website_url,'lxml')\n",
        "#print(soup.prettify())"
      ],
      "execution_count": 0,
      "outputs": []
    },
    {
      "cell_type": "code",
      "metadata": {
        "id": "cvvSsCNWEYHn",
        "colab_type": "code",
        "colab": {}
      },
      "source": [
        "My_table = soup.find('table',{'class':'colwidths-given docutils'})"
      ],
      "execution_count": 0,
      "outputs": []
    },
    {
      "cell_type": "code",
      "metadata": {
        "id": "bkpodJrN2F70",
        "colab_type": "code",
        "colab": {}
      },
      "source": [
        "tags = My_table.find_all('th', {'class': 'head'})"
      ],
      "execution_count": 0,
      "outputs": []
    },
    {
      "cell_type": "code",
      "metadata": {
        "id": "QTgoXovNhF-p",
        "colab_type": "code",
        "colab": {}
      },
      "source": [
        "#create column headers\n",
        "header = []\n",
        "for tag in tags:\n",
        "  header.append(tag.text)"
      ],
      "execution_count": 0,
      "outputs": []
    },
    {
      "cell_type": "code",
      "metadata": {
        "id": "UDeKI7tpaoch",
        "colab_type": "code",
        "colab": {
          "base_uri": "https://localhost:8080/",
          "height": 153
        },
        "outputId": "0c3799cb-07a4-4d85-9979-339b6f3f1a59"
      },
      "source": [
        "header"
      ],
      "execution_count": 133,
      "outputs": [
        {
          "output_type": "execute_result",
          "data": {
            "text/plain": [
              "['Super Sector Name',\n",
              " 'Super Sector Code',\n",
              " 'Sector Name',\n",
              " 'Sector Code',\n",
              " 'Group Name',\n",
              " 'Group Code',\n",
              " 'Industry Name',\n",
              " 'Industry Code']"
            ]
          },
          "metadata": {
            "tags": []
          },
          "execution_count": 133
        }
      ]
    },
    {
      "cell_type": "code",
      "metadata": {
        "id": "131Yix0NZwh4",
        "colab_type": "code",
        "colab": {}
      },
      "source": [
        "table_rows = My_table.tbody.find_all(\"tr\")\n",
        "table = []\n",
        "for tr in table_rows:\n",
        "    td = tr.find_all('td')\n",
        "    row = [tr.text for tr in td]\n",
        "    table.append(row)  "
      ],
      "execution_count": 0,
      "outputs": []
    },
    {
      "cell_type": "code",
      "metadata": {
        "id": "pqCD_J_wYtw0",
        "colab_type": "code",
        "colab": {}
      },
      "source": [
        "morning_star_codes = pd.DataFrame(table, columns=header)"
      ],
      "execution_count": 0,
      "outputs": []
    },
    {
      "cell_type": "code",
      "metadata": {
        "id": "uzwHsrDsh2xn",
        "colab_type": "code",
        "colab": {
          "base_uri": "https://localhost:8080/",
          "height": 204
        },
        "outputId": "127c1d22-6c8f-423e-b8f0-a0eecc8659a1"
      },
      "source": [
        "morning_star_codes.head()"
      ],
      "execution_count": 139,
      "outputs": [
        {
          "output_type": "execute_result",
          "data": {
            "text/html": [
              "<div>\n",
              "<style scoped>\n",
              "    .dataframe tbody tr th:only-of-type {\n",
              "        vertical-align: middle;\n",
              "    }\n",
              "\n",
              "    .dataframe tbody tr th {\n",
              "        vertical-align: top;\n",
              "    }\n",
              "\n",
              "    .dataframe thead th {\n",
              "        text-align: right;\n",
              "    }\n",
              "</style>\n",
              "<table border=\"1\" class=\"dataframe\">\n",
              "  <thead>\n",
              "    <tr style=\"text-align: right;\">\n",
              "      <th></th>\n",
              "      <th>Super Sector Name</th>\n",
              "      <th>Super Sector Code</th>\n",
              "      <th>Sector Name</th>\n",
              "      <th>Sector Code</th>\n",
              "      <th>Group Name</th>\n",
              "      <th>Group Code</th>\n",
              "      <th>Industry Name</th>\n",
              "      <th>Industry Code</th>\n",
              "    </tr>\n",
              "  </thead>\n",
              "  <tbody>\n",
              "    <tr>\n",
              "      <th>0</th>\n",
              "      <td>Cyclical</td>\n",
              "      <td>1</td>\n",
              "      <td>Basic Materials</td>\n",
              "      <td>101</td>\n",
              "      <td>Agriculture</td>\n",
              "      <td>10110</td>\n",
              "      <td>Agricultural Inputs</td>\n",
              "      <td>10110010</td>\n",
              "    </tr>\n",
              "    <tr>\n",
              "      <th>1</th>\n",
              "      <td>Cyclical</td>\n",
              "      <td>1</td>\n",
              "      <td>Basic Materials</td>\n",
              "      <td>101</td>\n",
              "      <td>Building Materials</td>\n",
              "      <td>10120</td>\n",
              "      <td>Building Materials</td>\n",
              "      <td>10120010</td>\n",
              "    </tr>\n",
              "    <tr>\n",
              "      <th>2</th>\n",
              "      <td>Cyclical</td>\n",
              "      <td>1</td>\n",
              "      <td>Basic Materials</td>\n",
              "      <td>101</td>\n",
              "      <td>Chemicals</td>\n",
              "      <td>10130</td>\n",
              "      <td>Chemicals</td>\n",
              "      <td>10130010</td>\n",
              "    </tr>\n",
              "    <tr>\n",
              "      <th>3</th>\n",
              "      <td>Cyclical</td>\n",
              "      <td>1</td>\n",
              "      <td>Basic Materials</td>\n",
              "      <td>101</td>\n",
              "      <td>Chemicals</td>\n",
              "      <td>10130</td>\n",
              "      <td>Specialty Chemicals</td>\n",
              "      <td>10130020</td>\n",
              "    </tr>\n",
              "    <tr>\n",
              "      <th>4</th>\n",
              "      <td>Cyclical</td>\n",
              "      <td>1</td>\n",
              "      <td>Basic Materials</td>\n",
              "      <td>101</td>\n",
              "      <td>Forest Products</td>\n",
              "      <td>10140</td>\n",
              "      <td>Lumber &amp; Wood Production</td>\n",
              "      <td>10140010</td>\n",
              "    </tr>\n",
              "  </tbody>\n",
              "</table>\n",
              "</div>"
            ],
            "text/plain": [
              "  Super Sector Name Super Sector Code  ...             Industry Name Industry Code\n",
              "0          Cyclical                 1  ...       Agricultural Inputs      10110010\n",
              "1          Cyclical                 1  ...        Building Materials      10120010\n",
              "2          Cyclical                 1  ...                 Chemicals      10130010\n",
              "3          Cyclical                 1  ...       Specialty Chemicals      10130020\n",
              "4          Cyclical                 1  ...  Lumber & Wood Production      10140010\n",
              "\n",
              "[5 rows x 8 columns]"
            ]
          },
          "metadata": {
            "tags": []
          },
          "execution_count": 139
        }
      ]
    }
  ]
}